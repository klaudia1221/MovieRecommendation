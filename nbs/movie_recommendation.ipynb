{
 "cells": [
  {
   "cell_type": "code",
   "execution_count": 8,
   "metadata": {
    "colab": {},
    "colab_type": "code",
    "id": "KyLNvqXSxrDm"
   },
   "outputs": [],
   "source": [
    "from fastai.collab import *\n",
    "from fastai.tabular import *\n",
    "import numpy as np"
   ]
  },
  {
   "cell_type": "code",
   "execution_count": 9,
   "metadata": {
    "colab": {
     "base_uri": "https://localhost:8080/",
     "height": 122.0
    },
    "colab_type": "code",
    "id": "x-wAxuf6xsDc",
    "outputId": "b8bddca5-d1cf-4316-ad02-ea014fd4aa07"
   },
   "outputs": [],
   "source": [
    "from fastai.vision import *\n",
    "#from google.colab import drive\n",
    "#drive.mount('/content/gdrive', force_remount=True)\n",
    "#root_dir = \"/content/gdrive/.../data/ml-latest-small/\""
   ]
  },
  {
   "cell_type": "code",
   "execution_count": 10,
   "metadata": {
    "colab": {
     "base_uri": "https://localhost:8080/",
     "height": 102.0
    },
    "colab_type": "code",
    "id": "91KR-1Atx0rm",
    "outputId": "ca39c960-1f73-4684-dcb6-48a9e7a6ee99"
   },
   "outputs": [
    {
     "ename": "NameError",
     "evalue": "name 'Path' is not defined",
     "traceback": [
      "\u001b[1;31m---------------------------------------------------------------------------\u001b[0m",
      "\u001b[1;31mNameError\u001b[0m                                 Traceback (most recent call last)",
      "\u001b[1;32m<ipython-input-10-316caa6589c7>\u001b[0m in \u001b[0;36m<module>\u001b[1;34m\u001b[0m\n\u001b[1;32m----> 1\u001b[1;33m \u001b[0mpath\u001b[0m \u001b[1;33m=\u001b[0m \u001b[0mPath\u001b[0m\u001b[1;33m(\u001b[0m\u001b[0mroot_dir\u001b[0m\u001b[1;33m)\u001b[0m\u001b[1;33m\u001b[0m\u001b[1;33m\u001b[0m\u001b[0m\n\u001b[0m\u001b[0;32m      2\u001b[0m \u001b[0mpath\u001b[0m\u001b[1;33m.\u001b[0m\u001b[0mls\u001b[0m\u001b[1;33m(\u001b[0m\u001b[1;33m)\u001b[0m\u001b[1;33m\u001b[0m\u001b[1;33m\u001b[0m\u001b[0m\n",
      "\u001b[1;31mNameError\u001b[0m: name 'Path' is not defined"
     ],
     "output_type": "error"
    }
   ],
   "source": [
    "path = Path(root_dir)\n",
    "path.ls()"
   ]
  },
  {
   "cell_type": "code",
   "execution_count": 4,
   "metadata": {
    "colab": {
     "base_uri": "https://localhost:8080/",
     "height": 204.0
    },
    "colab_type": "code",
    "id": "0TC8QrOIx5G3",
    "outputId": "dc1dd998-539b-48cc-eaa5-2f57c0d89ff7"
   },
   "outputs": [
    {
     "data": {
      "text/html": [
       "<div>\n",
       "<style scoped>\n",
       "    .dataframe tbody tr th:only-of-type {\n",
       "        vertical-align: middle;\n",
       "    }\n",
       "\n",
       "    .dataframe tbody tr th {\n",
       "        vertical-align: top;\n",
       "    }\n",
       "\n",
       "    .dataframe thead th {\n",
       "        text-align: right;\n",
       "    }\n",
       "</style>\n",
       "<table border=\"1\" class=\"dataframe\">\n",
       "  <thead>\n",
       "    <tr style=\"text-align: right;\">\n",
       "      <th></th>\n",
       "      <th>userId</th>\n",
       "      <th>movieId</th>\n",
       "      <th>rating</th>\n",
       "      <th>timestamp</th>\n",
       "    </tr>\n",
       "  </thead>\n",
       "  <tbody>\n",
       "    <tr>\n",
       "      <th>0</th>\n",
       "      <td>1</td>\n",
       "      <td>1</td>\n",
       "      <td>4.0</td>\n",
       "      <td>964982703</td>\n",
       "    </tr>\n",
       "    <tr>\n",
       "      <th>1</th>\n",
       "      <td>1</td>\n",
       "      <td>3</td>\n",
       "      <td>4.0</td>\n",
       "      <td>964981247</td>\n",
       "    </tr>\n",
       "    <tr>\n",
       "      <th>2</th>\n",
       "      <td>1</td>\n",
       "      <td>6</td>\n",
       "      <td>4.0</td>\n",
       "      <td>964982224</td>\n",
       "    </tr>\n",
       "    <tr>\n",
       "      <th>3</th>\n",
       "      <td>1</td>\n",
       "      <td>47</td>\n",
       "      <td>5.0</td>\n",
       "      <td>964983815</td>\n",
       "    </tr>\n",
       "    <tr>\n",
       "      <th>4</th>\n",
       "      <td>1</td>\n",
       "      <td>50</td>\n",
       "      <td>5.0</td>\n",
       "      <td>964982931</td>\n",
       "    </tr>\n",
       "  </tbody>\n",
       "</table>\n",
       "</div>"
      ],
      "text/plain": [
       "   userId  movieId  rating  timestamp\n",
       "0       1        1     4.0  964982703\n",
       "1       1        3     4.0  964981247\n",
       "2       1        6     4.0  964982224\n",
       "3       1       47     5.0  964983815\n",
       "4       1       50     5.0  964982931"
      ]
     },
     "execution_count": 4,
     "metadata": {
      "tags": []
     },
     "output_type": "execute_result"
    }
   ],
   "source": [
    "user,item,title = 'userId','movieId','title'\n",
    "ratings = pd.read_csv(path/'ratings.csv', delimiter=',')\n",
    "ratings.head()"
   ]
  },
  {
   "cell_type": "code",
   "execution_count": null,
   "metadata": {
    "colab": {},
    "colab_type": "code",
    "id": "Y3-pu2uByAlO"
   },
   "outputs": [],
   "source": [
    "GENRES = [\n",
    "    'Action', 'Adventure', 'Animation', \"Children\", 'Comedy', 'Crime',\n",
    "    'Documentary', 'Drama', 'Fantasy', 'Film-Noir', 'Horror', \"IMAX\", 'Musical',\n",
    "    'Mystery', 'Romance', 'Sci-Fi', 'Thriller', 'War', 'Western'\n",
    "]\n",
    "\n",
    "genres='genres'\n",
    "movies = pd.read_csv(path/'movies.csv',skiprows=1 ,names=[item,title,genres])"
   ]
  },
  {
   "cell_type": "code",
   "execution_count": null,
   "metadata": {
    "colab": {},
    "colab_type": "code",
    "id": "i9Z0kNqyyDE0"
   },
   "outputs": [],
   "source": [
    "def _map_fn(entry):\n",
    "  movie_genres = entry.split(\"|\")\n",
    "  output = np.zeros((len(GENRES),), dtype=np.int64)\n",
    "  for i, genre in enumerate(GENRES):\n",
    "    if genre in movie_genres:\n",
    "      output[i] = 1\n",
    "\n",
    "  return output"
   ]
  },
  {
   "cell_type": "code",
   "execution_count": 7,
   "metadata": {
    "colab": {
     "base_uri": "https://localhost:8080/",
     "height": 335.0
    },
    "colab_type": "code",
    "id": "YOoeJqdCyZvl",
    "outputId": "5d63b285-1fa9-41ca-ee20-6924f47e254f"
   },
   "outputs": [
    {
     "data": {
      "text/html": [
       "<div>\n",
       "<style scoped>\n",
       "    .dataframe tbody tr th:only-of-type {\n",
       "        vertical-align: middle;\n",
       "    }\n",
       "\n",
       "    .dataframe tbody tr th {\n",
       "        vertical-align: top;\n",
       "    }\n",
       "\n",
       "    .dataframe thead th {\n",
       "        text-align: right;\n",
       "    }\n",
       "</style>\n",
       "<table border=\"1\" class=\"dataframe\">\n",
       "  <thead>\n",
       "    <tr style=\"text-align: right;\">\n",
       "      <th></th>\n",
       "      <th>movieId</th>\n",
       "      <th>title</th>\n",
       "      <th>genres</th>\n",
       "      <th>cs</th>\n",
       "      <th>Action</th>\n",
       "      <th>Adventure</th>\n",
       "      <th>Animation</th>\n",
       "      <th>Children</th>\n",
       "      <th>Comedy</th>\n",
       "      <th>Crime</th>\n",
       "      <th>...</th>\n",
       "      <th>Film-Noir</th>\n",
       "      <th>Horror</th>\n",
       "      <th>IMAX</th>\n",
       "      <th>Musical</th>\n",
       "      <th>Mystery</th>\n",
       "      <th>Romance</th>\n",
       "      <th>Sci-Fi</th>\n",
       "      <th>Thriller</th>\n",
       "      <th>War</th>\n",
       "      <th>Western</th>\n",
       "    </tr>\n",
       "  </thead>\n",
       "  <tbody>\n",
       "    <tr>\n",
       "      <th>0</th>\n",
       "      <td>1</td>\n",
       "      <td>Toy Story (1995)</td>\n",
       "      <td>Adventure|Animation|Children|Comedy|Fantasy</td>\n",
       "      <td>[0, 1, 1, 1, 1, 0, 0, 0, 1, 0, 0, 0, 0, 0, 0, ...</td>\n",
       "      <td>0.0</td>\n",
       "      <td>1.0</td>\n",
       "      <td>1.0</td>\n",
       "      <td>1.0</td>\n",
       "      <td>1.0</td>\n",
       "      <td>0.0</td>\n",
       "      <td>...</td>\n",
       "      <td>0.0</td>\n",
       "      <td>0.0</td>\n",
       "      <td>0.0</td>\n",
       "      <td>0.0</td>\n",
       "      <td>0.0</td>\n",
       "      <td>0.0</td>\n",
       "      <td>0.0</td>\n",
       "      <td>0.0</td>\n",
       "      <td>0.0</td>\n",
       "      <td>0.0</td>\n",
       "    </tr>\n",
       "    <tr>\n",
       "      <th>1</th>\n",
       "      <td>2</td>\n",
       "      <td>Jumanji (1995)</td>\n",
       "      <td>Adventure|Children|Fantasy</td>\n",
       "      <td>[0, 1, 0, 1, 0, 0, 0, 0, 1, 0, 0, 0, 0, 0, 0, ...</td>\n",
       "      <td>0.0</td>\n",
       "      <td>1.0</td>\n",
       "      <td>0.0</td>\n",
       "      <td>1.0</td>\n",
       "      <td>0.0</td>\n",
       "      <td>0.0</td>\n",
       "      <td>...</td>\n",
       "      <td>0.0</td>\n",
       "      <td>0.0</td>\n",
       "      <td>0.0</td>\n",
       "      <td>0.0</td>\n",
       "      <td>0.0</td>\n",
       "      <td>0.0</td>\n",
       "      <td>0.0</td>\n",
       "      <td>0.0</td>\n",
       "      <td>0.0</td>\n",
       "      <td>0.0</td>\n",
       "    </tr>\n",
       "    <tr>\n",
       "      <th>2</th>\n",
       "      <td>3</td>\n",
       "      <td>Grumpier Old Men (1995)</td>\n",
       "      <td>Comedy|Romance</td>\n",
       "      <td>[0, 0, 0, 0, 1, 0, 0, 0, 0, 0, 0, 0, 0, 0, 1, ...</td>\n",
       "      <td>0.0</td>\n",
       "      <td>0.0</td>\n",
       "      <td>0.0</td>\n",
       "      <td>0.0</td>\n",
       "      <td>1.0</td>\n",
       "      <td>0.0</td>\n",
       "      <td>...</td>\n",
       "      <td>0.0</td>\n",
       "      <td>0.0</td>\n",
       "      <td>0.0</td>\n",
       "      <td>0.0</td>\n",
       "      <td>0.0</td>\n",
       "      <td>1.0</td>\n",
       "      <td>0.0</td>\n",
       "      <td>0.0</td>\n",
       "      <td>0.0</td>\n",
       "      <td>0.0</td>\n",
       "    </tr>\n",
       "    <tr>\n",
       "      <th>3</th>\n",
       "      <td>4</td>\n",
       "      <td>Waiting to Exhale (1995)</td>\n",
       "      <td>Comedy|Drama|Romance</td>\n",
       "      <td>[0, 0, 0, 0, 1, 0, 0, 1, 0, 0, 0, 0, 0, 0, 1, ...</td>\n",
       "      <td>0.0</td>\n",
       "      <td>0.0</td>\n",
       "      <td>0.0</td>\n",
       "      <td>0.0</td>\n",
       "      <td>1.0</td>\n",
       "      <td>0.0</td>\n",
       "      <td>...</td>\n",
       "      <td>0.0</td>\n",
       "      <td>0.0</td>\n",
       "      <td>0.0</td>\n",
       "      <td>0.0</td>\n",
       "      <td>0.0</td>\n",
       "      <td>1.0</td>\n",
       "      <td>0.0</td>\n",
       "      <td>0.0</td>\n",
       "      <td>0.0</td>\n",
       "      <td>0.0</td>\n",
       "    </tr>\n",
       "    <tr>\n",
       "      <th>4</th>\n",
       "      <td>5</td>\n",
       "      <td>Father of the Bride Part II (1995)</td>\n",
       "      <td>Comedy</td>\n",
       "      <td>[0, 0, 0, 0, 1, 0, 0, 0, 0, 0, 0, 0, 0, 0, 0, ...</td>\n",
       "      <td>0.0</td>\n",
       "      <td>0.0</td>\n",
       "      <td>0.0</td>\n",
       "      <td>0.0</td>\n",
       "      <td>1.0</td>\n",
       "      <td>0.0</td>\n",
       "      <td>...</td>\n",
       "      <td>0.0</td>\n",
       "      <td>0.0</td>\n",
       "      <td>0.0</td>\n",
       "      <td>0.0</td>\n",
       "      <td>0.0</td>\n",
       "      <td>0.0</td>\n",
       "      <td>0.0</td>\n",
       "      <td>0.0</td>\n",
       "      <td>0.0</td>\n",
       "      <td>0.0</td>\n",
       "    </tr>\n",
       "  </tbody>\n",
       "</table>\n",
       "<p>5 rows × 23 columns</p>\n",
       "</div>"
      ],
      "text/plain": [
       "   movieId                               title  \\\n",
       "0        1                    Toy Story (1995)   \n",
       "1        2                      Jumanji (1995)   \n",
       "2        3             Grumpier Old Men (1995)   \n",
       "3        4            Waiting to Exhale (1995)   \n",
       "4        5  Father of the Bride Part II (1995)   \n",
       "\n",
       "                                        genres  \\\n",
       "0  Adventure|Animation|Children|Comedy|Fantasy   \n",
       "1                   Adventure|Children|Fantasy   \n",
       "2                               Comedy|Romance   \n",
       "3                         Comedy|Drama|Romance   \n",
       "4                                       Comedy   \n",
       "\n",
       "                                                  cs  Action  Adventure  \\\n",
       "0  [0, 1, 1, 1, 1, 0, 0, 0, 1, 0, 0, 0, 0, 0, 0, ...     0.0        1.0   \n",
       "1  [0, 1, 0, 1, 0, 0, 0, 0, 1, 0, 0, 0, 0, 0, 0, ...     0.0        1.0   \n",
       "2  [0, 0, 0, 0, 1, 0, 0, 0, 0, 0, 0, 0, 0, 0, 1, ...     0.0        0.0   \n",
       "3  [0, 0, 0, 0, 1, 0, 0, 1, 0, 0, 0, 0, 0, 0, 1, ...     0.0        0.0   \n",
       "4  [0, 0, 0, 0, 1, 0, 0, 0, 0, 0, 0, 0, 0, 0, 0, ...     0.0        0.0   \n",
       "\n",
       "   Animation  Children  Comedy  Crime   ...     Film-Noir  Horror  IMAX  \\\n",
       "0        1.0       1.0     1.0    0.0   ...           0.0     0.0   0.0   \n",
       "1        0.0       1.0     0.0    0.0   ...           0.0     0.0   0.0   \n",
       "2        0.0       0.0     1.0    0.0   ...           0.0     0.0   0.0   \n",
       "3        0.0       0.0     1.0    0.0   ...           0.0     0.0   0.0   \n",
       "4        0.0       0.0     1.0    0.0   ...           0.0     0.0   0.0   \n",
       "\n",
       "   Musical  Mystery  Romance  Sci-Fi  Thriller  War  Western  \n",
       "0      0.0      0.0      0.0     0.0       0.0  0.0      0.0  \n",
       "1      0.0      0.0      0.0     0.0       0.0  0.0      0.0  \n",
       "2      0.0      0.0      1.0     0.0       0.0  0.0      0.0  \n",
       "3      0.0      0.0      1.0     0.0       0.0  0.0      0.0  \n",
       "4      0.0      0.0      0.0     0.0       0.0  0.0      0.0  \n",
       "\n",
       "[5 rows x 23 columns]"
      ]
     },
     "execution_count": 7,
     "metadata": {
      "tags": []
     },
     "output_type": "execute_result"
    }
   ],
   "source": [
    "movies['cs']=movies[genres].apply(_map_fn)\n",
    "\n",
    "for j,genre in enumerate(GENRES):\n",
    "  for i, row in movies.iterrows():\n",
    "    movies.loc[i,genre]=row['cs'][j]\n",
    "                            \n",
    "movies.head()"
   ]
  },
  {
   "cell_type": "code",
   "execution_count": 8,
   "metadata": {
    "colab": {
     "base_uri": "https://localhost:8080/",
     "height": 34.0
    },
    "colab_type": "code",
    "id": "8k8n-W0xyeB-",
    "outputId": "2cb445c5-26d6-4a9c-d4c5-47611fe629c3"
   },
   "outputs": [
    {
     "data": {
      "text/plain": [
       "100836"
      ]
     },
     "execution_count": 8,
     "metadata": {
      "tags": []
     },
     "output_type": "execute_result"
    }
   ],
   "source": [
    "len(ratings)"
   ]
  },
  {
   "cell_type": "code",
   "execution_count": 9,
   "metadata": {
    "colab": {
     "base_uri": "https://localhost:8080/",
     "height": 204.0
    },
    "colab_type": "code",
    "id": "Kix6i3BMykkR",
    "outputId": "05bda269-1bb8-4a35-acae-760b72c7cd6b"
   },
   "outputs": [
    {
     "data": {
      "text/html": [
       "<div>\n",
       "<style scoped>\n",
       "    .dataframe tbody tr th:only-of-type {\n",
       "        vertical-align: middle;\n",
       "    }\n",
       "\n",
       "    .dataframe tbody tr th {\n",
       "        vertical-align: top;\n",
       "    }\n",
       "\n",
       "    .dataframe thead th {\n",
       "        text-align: right;\n",
       "    }\n",
       "</style>\n",
       "<table border=\"1\" class=\"dataframe\">\n",
       "  <thead>\n",
       "    <tr style=\"text-align: right;\">\n",
       "      <th></th>\n",
       "      <th>userId</th>\n",
       "      <th>movieId</th>\n",
       "      <th>rating</th>\n",
       "      <th>timestamp</th>\n",
       "      <th>title</th>\n",
       "    </tr>\n",
       "  </thead>\n",
       "  <tbody>\n",
       "    <tr>\n",
       "      <th>0</th>\n",
       "      <td>1</td>\n",
       "      <td>1</td>\n",
       "      <td>4.0</td>\n",
       "      <td>964982703</td>\n",
       "      <td>Toy Story (1995)</td>\n",
       "    </tr>\n",
       "    <tr>\n",
       "      <th>1</th>\n",
       "      <td>5</td>\n",
       "      <td>1</td>\n",
       "      <td>4.0</td>\n",
       "      <td>847434962</td>\n",
       "      <td>Toy Story (1995)</td>\n",
       "    </tr>\n",
       "    <tr>\n",
       "      <th>2</th>\n",
       "      <td>7</td>\n",
       "      <td>1</td>\n",
       "      <td>4.5</td>\n",
       "      <td>1106635946</td>\n",
       "      <td>Toy Story (1995)</td>\n",
       "    </tr>\n",
       "    <tr>\n",
       "      <th>3</th>\n",
       "      <td>15</td>\n",
       "      <td>1</td>\n",
       "      <td>2.5</td>\n",
       "      <td>1510577970</td>\n",
       "      <td>Toy Story (1995)</td>\n",
       "    </tr>\n",
       "    <tr>\n",
       "      <th>4</th>\n",
       "      <td>17</td>\n",
       "      <td>1</td>\n",
       "      <td>4.5</td>\n",
       "      <td>1305696483</td>\n",
       "      <td>Toy Story (1995)</td>\n",
       "    </tr>\n",
       "  </tbody>\n",
       "</table>\n",
       "</div>"
      ],
      "text/plain": [
       "   userId  movieId  rating   timestamp             title\n",
       "0       1        1     4.0   964982703  Toy Story (1995)\n",
       "1       5        1     4.0   847434962  Toy Story (1995)\n",
       "2       7        1     4.5  1106635946  Toy Story (1995)\n",
       "3      15        1     2.5  1510577970  Toy Story (1995)\n",
       "4      17        1     4.5  1305696483  Toy Story (1995)"
      ]
     },
     "execution_count": 9,
     "metadata": {
      "tags": []
     },
     "output_type": "execute_result"
    }
   ],
   "source": [
    "rating_movie = ratings.merge(movies[[item, title]])\n",
    "rating_movie.head()"
   ]
  },
  {
   "cell_type": "code",
   "execution_count": null,
   "metadata": {
    "colab": {},
    "colab_type": "code",
    "id": "GcQAsYrfylTe"
   },
   "outputs": [],
   "source": [
    "data = CollabDataBunch.from_df(rating_movie, seed=42, valid_pct=0.1, item_name=title)"
   ]
  },
  {
   "cell_type": "code",
   "execution_count": 11,
   "metadata": {
    "colab": {
     "base_uri": "https://localhost:8080/",
     "height": 204.0
    },
    "colab_type": "code",
    "id": "2RbY-T31yxJE",
    "outputId": "c3336879-1c49-4130-bb72-a29270cf2b08"
   },
   "outputs": [
    {
     "data": {
      "text/html": [
       "<table border=\"1\" class=\"dataframe\">\n",
       "  <thead>\n",
       "    <tr style=\"text-align: right;\">\n",
       "      <th>userId</th>\n",
       "      <th>title</th>\n",
       "      <th>target</th>\n",
       "    </tr>\n",
       "  </thead>\n",
       "  <tbody>\n",
       "    <tr>\n",
       "      <td>606</td>\n",
       "      <td>Death and the Maiden (1994)</td>\n",
       "      <td>3.5</td>\n",
       "    </tr>\n",
       "    <tr>\n",
       "      <td>222</td>\n",
       "      <td>Ocean's Twelve (2004)</td>\n",
       "      <td>2.5</td>\n",
       "    </tr>\n",
       "    <tr>\n",
       "      <td>75</td>\n",
       "      <td>Titanic (1997)</td>\n",
       "      <td>2.5</td>\n",
       "    </tr>\n",
       "    <tr>\n",
       "      <td>59</td>\n",
       "      <td>Taxi Driver (1976)</td>\n",
       "      <td>5.0</td>\n",
       "    </tr>\n",
       "    <tr>\n",
       "      <td>219</td>\n",
       "      <td>Cowboy Bebop: The Movie (Cowboy Bebop: Tengoku no Tobira) (2001)</td>\n",
       "      <td>3.5</td>\n",
       "    </tr>\n",
       "  </tbody>\n",
       "</table>"
      ],
      "text/plain": [
       "<IPython.core.display.HTML object>"
      ]
     },
     "metadata": {
      "tags": []
     },
     "output_type": "execute_result"
    }
   ],
   "source": [
    "data.show_batch()"
   ]
  },
  {
   "cell_type": "code",
   "execution_count": null,
   "metadata": {
    "colab": {},
    "colab_type": "code",
    "id": "4Mx0s6Yoyxua"
   },
   "outputs": [],
   "source": [
    "y_range = [0,5.5]"
   ]
  },
  {
   "cell_type": "code",
   "execution_count": null,
   "metadata": {
    "colab": {},
    "colab_type": "code",
    "id": "1CACTQhCy3zs"
   },
   "outputs": [],
   "source": [
    "learn = collab_learner(data, n_factors=40, y_range=y_range, wd=1e-1)"
   ]
  },
  {
   "cell_type": "code",
   "execution_count": 14,
   "metadata": {
    "colab": {
     "base_uri": "https://localhost:8080/",
     "height": 378.0
    },
    "colab_type": "code",
    "id": "PKt23leBy5bG",
    "outputId": "5d2a2222-8e6a-496f-b799-494a31492a24"
   },
   "outputs": [
    {
     "data": {
      "text/html": [],
      "text/plain": [
       "<IPython.core.display.HTML object>"
      ]
     },
     "metadata": {
      "tags": []
     },
     "output_type": "execute_result"
    },
    {
     "name": "stdout",
     "output_type": "stream",
     "text": [
      "LR Finder is complete, type {learner_name}.recorder.plot() to see the graph.\n"
     ]
    },
    {
     "data": {
      "image/png": "[encoded data removed]",
      "text/plain": [
       "<Figure size 576x396 with 1 Axes>"
      ]
     },
     "metadata": {
      "tags": []
     },
     "output_type": "display_data"
    }
   ],
   "source": [
    "learn.lr_find()\n",
    "learn.recorder.plot(skip_end=15)"
   ]
  },
  {
   "cell_type": "code",
   "execution_count": 15,
   "metadata": {
    "colab": {
     "base_uri": "https://localhost:8080/",
     "height": 227.0
    },
    "colab_type": "code",
    "id": "wVLdNdI_y7lK",
    "outputId": "dd02bc0b-ecb4-4714-bbe2-abd89477f7e9"
   },
   "outputs": [
    {
     "data": {
      "text/html": [
       "Total time: 02:28 <p><table border=\"1\" class=\"dataframe\">\n",
       "  <thead>\n",
       "    <tr style=\"text-align: left;\">\n",
       "      <th>epoch</th>\n",
       "      <th>train_loss</th>\n",
       "      <th>valid_loss</th>\n",
       "      <th>time</th>\n",
       "    </tr>\n",
       "  </thead>\n",
       "  <tbody>\n",
       "    <tr>\n",
       "      <td>1</td>\n",
       "      <td>0.804215</td>\n",
       "      <td>0.777113</td>\n",
       "      <td>00:21</td>\n",
       "    </tr>\n",
       "    <tr>\n",
       "      <td>2</td>\n",
       "      <td>0.725118</td>\n",
       "      <td>0.718006</td>\n",
       "      <td>00:34</td>\n",
       "    </tr>\n",
       "    <tr>\n",
       "      <td>3</td>\n",
       "      <td>0.589973</td>\n",
       "      <td>0.694228</td>\n",
       "      <td>00:34</td>\n",
       "    </tr>\n",
       "    <tr>\n",
       "      <td>4</td>\n",
       "      <td>0.469293</td>\n",
       "      <td>0.680382</td>\n",
       "      <td>00:31</td>\n",
       "    </tr>\n",
       "    <tr>\n",
       "      <td>5</td>\n",
       "      <td>0.378436</td>\n",
       "      <td>0.682010</td>\n",
       "      <td>00:26</td>\n",
       "    </tr>\n",
       "  </tbody>\n",
       "</table>"
      ],
      "text/plain": [
       "<IPython.core.display.HTML object>"
      ]
     },
     "metadata": {
      "tags": []
     },
     "output_type": "execute_result"
    }
   ],
   "source": [
    "learn.fit_one_cycle(5, 5e-3)"
   ]
  },
  {
   "cell_type": "code",
   "execution_count": null,
   "metadata": {
    "colab": {},
    "colab_type": "code",
    "id": "MSdseNwKy_hE"
   },
   "outputs": [],
   "source": [
    "learn.save('-2')"
   ]
  },
  {
   "cell_type": "code",
   "execution_count": null,
   "metadata": {
    "colab": {},
    "colab_type": "code",
    "id": "r95HRy6NzGZM"
   },
   "outputs": [],
   "source": [
    "learn.load('-2');"
   ]
  },
  {
   "cell_type": "code",
   "execution_count": null,
   "metadata": {
    "colab": {},
    "colab_type": "code",
    "id": "Sbp5bGuXzHEM"
   },
   "outputs": [],
   "source": [
    "w = learn.model.u_weight.weight.cpu() #40 factors for 611 users \n",
    "b = learn.model.u_bias.weight.cpu() #bias for 611 users\n",
    "print(w.shape,b.shape)"
   ]
  },
  {
   "cell_type": "code",
   "execution_count": null,
   "metadata": {
    "colab": {},
    "colab_type": "code",
    "id": "I5eRZmWkzI-w"
   },
   "outputs": [],
   "source": [
    "u = torch.cat([w,b],1) #bias as 41st element\n",
    "# print(b)\n",
    "print(u)"
   ]
  },
  {
   "cell_type": "code",
   "execution_count": null,
   "metadata": {
    "colab": {},
    "colab_type": "code",
    "id": "BJLh_wSWzRub"
   },
   "outputs": [],
   "source": [
    "user_factors = u.detach().numpy()\n",
    "# print(u.shape,user_factors.shape,u,user_factors)\n",
    "movies_weights = learn.model.i_weight.weight.cpu()\n",
    "movies_bias= learn.model.i_bias.weight.cpu()\n",
    "\n",
    "print(movies_weights.shape,movies_bias.shape) #9352 films\n",
    "movies_f = torch.cat([movies_weights,movies_bias],1)"
   ]
  },
  {
   "cell_type": "code",
   "execution_count": null,
   "metadata": {
    "colab": {},
    "colab_type": "code",
    "id": "78jhwxG9zULg"
   },
   "outputs": [],
   "source": [
    "movies_factors = movies_f.detach().numpy() #as numpy array\n",
    "print(movies_f.shape,movies_factors.shape,movies_f,movies_factors)"
   ]
  },
  {
   "cell_type": "code",
   "execution_count": null,
   "metadata": {
    "colab": {},
    "colab_type": "code",
    "id": "77CXoqYVzb2s"
   },
   "outputs": [],
   "source": [
    "u@torch.t(movies_f)"
   ]
  },
  {
   "cell_type": "code",
   "execution_count": null,
   "metadata": {
    "colab": {},
    "colab_type": "code",
    "id": "wPYQ_wZ9zffA"
   },
   "outputs": [],
   "source": [
    "# movieId, rating\n",
    "import numpy as np\n",
    "lists = np.array([[1,5],[87,2],[23,1],[13,3]]) # (kx1), movieId zaczyna od 1, czyli filtrujemy indexach macierzy\n",
    "\n",
    " #funkcja Tworzymy macierz 600x20 - uzytkownicy na liczba filmow.\n",
    "# 3. Liczymy pearsona 600x20 razy 20x1, dostajemy wektor 600x1, wyznaczamy top 10 (t) uzytkownikow.\n",
    "# 4. Macierz 10x1, znajdujemy userid\n",
    "# 5. Bierzemy 10x40 embeddings matrix i liczymy srednia, dostajemy wektor 1x40\n",
    "# 6. Mnozymy 1x40 przez 40x10000 dostajemy 1x10000\n",
    "# 7. Sortujemy, wyznaczamy top 20 bez obejrzanych\n",
    "# return [[2,4.2],[3,2],[12,3]]"
   ]
  },
  {
   "cell_type": "code",
   "execution_count": null,
   "metadata": {},
   "outputs": [],
   "source": [
    "w = learn.model.u_weight.weight.cpu() #40 factors for 611 users \n",
    "b = learn.model.u_bias.weight.cpu() #bias for 611 users\n",
    "# print(w.shape,b.shape)\n",
    "u = torch.cat([b,w],1) #bias as 1st element\n",
    "# print(b)\n",
    "# print(u)\n",
    "\n",
    "user_factors = u.detach().numpy()\n",
    "# print(u.shape,user_factors.shape,u,user_factors)\n",
    "movies_weights = learn.model.i_weight.weight.cpu()\n",
    "movies_bias= learn.model.i_bias.weight.cpu()\n",
    "\n",
    "# print(movies_weights.shape,movies_bias.shape) #9352 films\n",
    "movies_f = torch.cat([movies_bias, movies_weights],1)\n",
    "movies_factors = movies_f.detach().numpy() #as numpy array\n",
    "# print(movies_f.shape,movies_factors.shape,movies_f,movies_factors)\n",
    "\n",
    "\n",
    "matrix=u@torch.t(movies_f)\n",
    "# print(matrix)\n",
    "# matrix.shape\n",
    "\n",
    "def get_movies(lists): \n",
    "  global movies_factors, matrix, u\n",
    "  lists = np.array(sorted(lists, key=lambda a_entry: a_entry[0]))  #sortowanie po movieId\n",
    "  movie_ids=lists[:,0]\n",
    "  movie_ratings=lists[:,1]\n",
    "  \n",
    " #funkcja Tworzy macierz 600x20 - uzytkownicy na liczba filmow.    \n",
    "  reduced_matrix=matrix[:,movie_ids]\n",
    "  \n",
    "  y_range=[0.5,5.5]\n",
    "  ratings=torch.sigmoid(reduced_matrix) * (y_range[1]-y_range[0]) + y_range[0]\n",
    "\n",
    "  from scipy.stats.stats import pearsonr \n",
    "\n",
    "# 3. Liczymy pearsona 600x20 razy 20x1, dostajemy wektor 600x1, wyznaczamy top 10 (t) uzytkownikow.\n",
    "  tmp = np.array([])\n",
    "  for ind, i in enumerate(ratings):\n",
    "    p_coeff=pearsonr(movie_ratings,i.numpy())[0]\n",
    "    tmp=np.append(tmp,p_coeff)\n",
    "  \n",
    "  top10_users=np.argsort(tmp)[-10:]\n",
    "#   print(top10_users) # 4. Macierz 10x1, znajdujemy userid\n",
    "    \n",
    "  reduced_users_matrix=u[top10_users]\n",
    "  reduced_users_matrix.shape\n",
    "\n",
    "  mean_vec=np.mean(reduced_users_matrix.numpy(),axis=0)\n",
    "  mean_vec=torch.tensor(mean_vec)[None]\n",
    "\n",
    "  movies_factors=torch.tensor(movies_factors)\n",
    "\n",
    "  result=mean_vec@torch.t(movies_factors)\n",
    "  \n",
    "  top30_films=np.argsort(result)[0][-(len(movie_ids)+20):]\n",
    "  top30_films=reversed(top30_films)\n",
    "  movie_ids=torch.tensor(movie_ids)\n",
    "\n",
    "  top10=np.array([])\n",
    "  for i in range(len(top30_films)):\n",
    "    if len(top10)<10:\n",
    "      if top30_films[i] not in movie_ids:\n",
    "        top10=np.append(top10,top30_films[i]+1)\n",
    "  return(top10)\n"
   ]
  },
  {
   "cell_type": "code",
   "execution_count": null,
   "metadata": {},
   "outputs": [],
   "source": [
    "lists = np.array([[1,5],[87,2],[23,1],[13,3]])\n",
    "top10=get_movies(lists)\n",
    "print(top10)"
   ]
  },
  {
   "cell_type": "code",
   "execution_count": null,
   "metadata": {},
   "outputs": [],
   "source": [
    "import pickle\n",
    "\n",
    "with open('movie_recommendation.pickle', 'wb') as handle:\n",
    "    pickle.dump((matrix,u,movies_factors), handle, protocol=pickle.HIGHEST_PROTOCOL)"
   ]
  },
  {
   "cell_type": "code",
   "execution_count": null,
   "metadata": {},
   "outputs": [],
   "source": [
    "with open('movie_recommendation.pickle', 'rb') as handle:\n",
    "    matrix,u,movies_factors = pickle.load(handle)\n",
    "    \n",
    "print(u)"
   ]
  }
 ],
 "metadata": {
  "colab": {
   "collapsed_sections": [],
   "name": "Movie_recommendation.ipynb",
   "provenance": [],
   "version": "0.3.2"
  },
  "kernelspec": {
   "display_name": "Python 3",
   "language": "python",
   "name": "python3"
  },
  "language_info": {
   "codemirror_mode": {
    "name": "ipython",
    "version": 3
   },
   "file_extension": ".py",
   "mimetype": "text/x-python",
   "name": "python",
   "nbconvert_exporter": "python",
   "pygments_lexer": "ipython3",
   "version": "3.6.7"
  }
 },
 "nbformat": 4,
 "nbformat_minor": 2
}
