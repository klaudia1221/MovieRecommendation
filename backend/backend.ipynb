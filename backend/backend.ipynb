{
 "cells": [
  {
   "cell_type": "code",
   "execution_count": 20,
   "metadata": {},
   "outputs": [
    {
     "name": "stdout",
     "output_type": "stream",
     "text": [
      "The autoreload extension is already loaded. To reload it, use:\n",
      "  %reload_ext autoreload\n"
     ]
    }
   ],
   "source": [
    "%load_ext autoreload\n",
    "%autoreload 2\n",
    "\n",
    "import movies_server as ms\n",
    "import numpy as np"
   ]
  },
  {
   "cell_type": "code",
   "execution_count": 11,
   "metadata": {},
   "outputs": [],
   "source": [
    "#!pip install starlette\n",
    "from starlette.responses import JSONResponse"
   ]
  },
  {
   "cell_type": "code",
   "execution_count": 18,
   "metadata": {},
   "outputs": [
    {
     "name": "stdout",
     "output_type": "stream",
     "text": [
      "    movie_ix                            title\n",
      "0       1018                         The Cell\n",
      "1        827                       Home Alone\n",
      "2       1475                           Scream\n",
      "3        125         Honey, I Shrunk the Kids\n",
      "4        183                 The 13th Warrior\n",
      "5       4494                         Joe Dirt\n",
      "6       1167    The Lost World: Jurassic Park\n",
      "7        676                       Sgt. Bilko\n",
      "8        169                       Dick Tracy\n",
      "9        539                          The Net\n",
      "10       251                 Django Unchained\n",
      "11      1437                          Vertigo\n",
      "12      2060              There Will Be Blood\n",
      "13      1101  One Flew Over the Cuckoo's Nest\n",
      "14       240             Inglourious Basterds\n",
      "15       306               Heavenly Creatures\n",
      "16      1220                  Good Bye Lenin!\n",
      "17      2037                  Midnight Cowboy\n",
      "18        33                           Batman\n",
      "19       193                          RoboCop\n",
      "20       744                            Shrek\n",
      "21      1059               500 Days of Summer\n",
      "22       898         The Pursuit of Happyness\n",
      "23       944                 The Intouchables\n",
      "24        31                        Tombstone\n",
      "[{\"movieId\":3863,\"movie_ix\":1018,\"imdbId\":209958,\"tmdbId\":8843.0,\"genres\":\"Drama,Horror,Thriller\",\"cover\":\"https:\\/\\/m.media-amazon.com\\/images\\/M\\/MV5BMDY1NmVmOTItYWU0NC00OGU2LWIyNTctYTU3NTY3ZjJkOWJjXkEyXkFqcGdeQXVyMTQxNzMzNDI@.jpg\",\"title\":\"The Cel\n"
     ]
    }
   ],
   "source": [
    "#JSONResponse(m.movies.sample(10))\n",
    "#m.movies[['movieId','title','genres','imdbId','cover']].sample(10).to_json(orient='records')\n",
    "\n",
    "cold = ms.get_movies_cold()\n",
    "\n",
    "print(cold[['movie_ix','title']])\n",
    "print(cold.to_json(orient='records')[:250])"
   ]
  },
  {
   "cell_type": "code",
   "execution_count": 25,
   "metadata": {},
   "outputs": [
    {
     "name": "stdout",
     "output_type": "stream",
     "text": [
      "          movie_ix                                 title\n",
      "movie_ix                                                \n",
      "3                3                                 Se7en\n",
      "1110          1110                        Cool Hand Luke\n",
      "219            219                             Gladiator\n",
      "941            941                  Crazy, Stupid, Love.\n",
      "335            335                            Casablanca\n",
      "2285          2285                                 Crash\n",
      "32              32                    Dances with Wolves\n",
      "1096          1096                         A Close Shave\n",
      "147            147                    American History X\n",
      "238            238                       The Dark Knight\n",
      "134            134  Indiana Jones and the Temple of Doom\n",
      "725            725                    Dead Poets Society\n",
      "877            877                         Love Actually\n",
      "238            238                       The Dark Knight\n",
      "4                4                    The Usual Suspects\n",
      "335            335                            Casablanca\n",
      "4                4                    The Usual Suspects\n",
      "887            887                          The Notebook\n",
      "2285          2285                                 Crash\n",
      "391            391                     Life Is Beautiful\n",
      "[{\"movieId\":47,\"movie_ix\":3,\"imdbId\":114369,\"tmdbId\":807.0,\"genres\":\"Mystery,Thriller\",\"cover\":\"https:\\/\\/m.media-amazon.com\\/images\\/M\\/MV5BOTUwODM5MTctZjczMi00OTk4LTg3NWUtNmVhMTAzNTNjYjcyXkEyXkFqcGdeQXVyNjU0OTQ0OTY@.jpg\",\"title\":\"Se7en\",\"full-title\n"
     ]
    }
   ],
   "source": [
    "lists = np.array([[1,5],[87,2],[23,1],[13,3]]) # (kx1), movieId zaczyna od 1, czyli filtrujemy indexach macierzy\n",
    "movies_filtered = ms.get_movies_recommendations(lists)\n",
    "\n",
    "print(movies_filtered[['movie_ix','title']])\n",
    "print(movies_filtered.to_json(orient='records')[:250])"
   ]
  },
  {
   "cell_type": "code",
   "execution_count": null,
   "metadata": {},
   "outputs": [],
   "source": []
  }
 ],
 "metadata": {
  "kernelspec": {
   "display_name": "Python 3",
   "language": "python",
   "name": "python3"
  },
  "language_info": {
   "codemirror_mode": {
    "name": "ipython",
    "version": 3
   },
   "file_extension": ".py",
   "mimetype": "text/x-python",
   "name": "python",
   "nbconvert_exporter": "python",
   "pygments_lexer": "ipython3",
   "version": "3.7.1"
  }
 },
 "nbformat": 4,
 "nbformat_minor": 2
}
