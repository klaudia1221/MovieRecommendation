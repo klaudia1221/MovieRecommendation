{
 "cells": [
  {
   "cell_type": "code",
   "execution_count": 1,
   "metadata": {},
   "outputs": [],
   "source": [
    "%load_ext autoreload\n",
    "%autoreload 2\n",
    "\n",
    "import movies as m"
   ]
  },
  {
   "cell_type": "code",
   "execution_count": 6,
   "metadata": {},
   "outputs": [
    {
     "data": {
      "text/plain": [
       "'[{\"movieId\":8784,\"title\":\"Garden State (2004)\",\"genres\":\"Comedy|Drama|Romance\",\"imdbId\":333766,\"cover\":\"https:\\\\/\\\\/m.media-amazon.com\\\\/images\\\\/M\\\\/MV5BMjc5MDE0NjkxOF5BMl5BanBnXkFtZTcwNzA0NTkyMw@@.jpg\"},{\"movieId\":118326,\"title\":\"By the Gun (2014)\",\"genres\":\"Crime|Drama|Thriller\",\"imdbId\":2543702,\"cover\":\"https:\\\\/\\\\/m.media-amazon.com\\\\/images\\\\/M\\\\/MV5BMzgxMDIzOTEzMV5BMl5BanBnXkFtZTgwMzUzMDEwMzE@.jpg\"},{\"movieId\":7362,\"title\":\"Taking Lives (2004)\",\"genres\":\"Crime|Drama|Thriller\",\"imdbId\":364045,\"cover\":\"https:\\\\/\\\\/m.media-amazon.com\\\\/images\\\\/M\\\\/MV5BMTA3NDMyNzI5NTdeQTJeQWpwZ15BbWU3MDQxNDEyMzM@.jpg\"},{\"movieId\":181,\"title\":\"Mighty Morphin Power Rangers: The Movie (1995)\",\"genres\":\"Action|Children\",\"imdbId\":113820,\"cover\":\"https:\\\\/\\\\/m.media-amazon.com\\\\/images\\\\/M\\\\/MV5BN2I2Y2I5N2MtMzJhMy00NzE2LThlMzEtNGE0ODA4M2JhOWNiXkEyXkFqcGdeQXVyNTI4MjkwNjA@.jpg\"},{\"movieId\":127390,\"title\":\"Family Guy Presents: Blue Harvest (2007)\",\"genres\":\"Animation|Comedy\",\"imdbId\":888817,\"cover\":\"https:\\\\/\\\\/m.media-amazon.com\\\\/images\\\\/M\\\\/MV5BMzBjZmY2MWItYTliOC00MjNhLTkyNWYtMjQ2YzI0MTgyYTNlXkEyXkFqcGdeQXVyNjMxNzQ2NTQ@.jpg\"},{\"movieId\":49286,\"title\":\"Holiday, The (2006)\",\"genres\":\"Comedy|Romance\",\"imdbId\":457939,\"cover\":\"https:\\\\/\\\\/m.media-amazon.com\\\\/images\\\\/M\\\\/MV5BMTI1MDk4MzA2OF5BMl5BanBnXkFtZTYwMjQ3NDc3.jpg\"},{\"movieId\":4168,\"title\":\"Get Over It (2001)\",\"genres\":\"Comedy|Romance\",\"imdbId\":192071,\"cover\":\"https:\\\\/\\\\/m.media-amazon.com\\\\/images\\\\/M\\\\/MV5BM2M4OTBmNjQtNjMyNi00YTBjLWJkYjAtNGQ3YzVkNjFmNDZiXkEyXkFqcGdeQXVyMjA5MTIzMjQ@.jpg\"},{\"movieId\":508,\"title\":\"Philadelphia (1993)\",\"genres\":\"Drama\",\"imdbId\":107818,\"cover\":\"https:\\\\/\\\\/m.media-amazon.com\\\\/images\\\\/M\\\\/MV5BNDE0MWE1ZTMtOWFkMS00YjdiLTkwZTItMDljYjY3MjM0NTk5XkEyXkFqcGdeQXVyNDYyMDk5MTU@.jpg\"},{\"movieId\":1834,\"title\":\"Spanish Prisoner, The (1997)\",\"genres\":\"Crime|Drama|Mystery|Thriller\",\"imdbId\":120176,\"cover\":\"https:\\\\/\\\\/m.media-amazon.com\\\\/images\\\\/M\\\\/MV5BNzg1NTQ1ZDMtYjBkNS00NTU5LTliNjgtOGVhNGY0ZjYyY2U3XkEyXkFqcGdeQXVyNjU0NTI0Nw@@.jpg\"},{\"movieId\":6732,\"title\":\"Hello, Dolly! (1969)\",\"genres\":\"Comedy|Musical|Romance\",\"imdbId\":64418,\"cover\":\"https:\\\\/\\\\/m.media-amazon.com\\\\/images\\\\/M\\\\/MV5BODJmZmFiNzQtMDJiYS00ZTgzLTljZGMtNjEzNzM4NmEyYjNiXkEyXkFqcGdeQXVyNjE5MjUyOTM@.jpg\"}]'"
      ]
     },
     "execution_count": 6,
     "metadata": {},
     "output_type": "execute_result"
    }
   ],
   "source": [
    "from starlette.responses import JSONResponse\n",
    "#JSONResponse(m.movies.sample(10))\n",
    "\n",
    "m.movies[['movieId','title','genres','imdbId','cover']].sample(10).to_json(orient='records')"
   ]
  }
 ],
 "metadata": {
  "kernelspec": {
   "display_name": "Python 3",
   "language": "python",
   "name": "python3"
  },
  "language_info": {
   "codemirror_mode": {
    "name": "ipython",
    "version": 3
   },
   "file_extension": ".py",
   "mimetype": "text/x-python",
   "name": "python",
   "nbconvert_exporter": "python",
   "pygments_lexer": "ipython3",
   "version": "3.6.7"
  }
 },
 "nbformat": 4,
 "nbformat_minor": 2
}
